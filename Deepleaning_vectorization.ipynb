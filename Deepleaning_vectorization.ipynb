{
  "nbformat": 4,
  "nbformat_minor": 0,
  "metadata": {
    "colab": {
      "name": "Deepleaning_vectorization.ipynb",
      "provenance": [],
      "collapsed_sections": []
    },
    "kernelspec": {
      "name": "python3",
      "display_name": "Python 3"
    },
    "language_info": {
      "name": "python"
    }
  },
  "cells": [
    {
      "cell_type": "code",
      "metadata": {
        "colab": {
          "base_uri": "https://localhost:8080/"
        },
        "id": "jLqOq9_P8kVh",
        "outputId": "507c7314-e330-49a1-e895-1b071e2abac4"
      },
      "source": [
        "import numpy as np\n",
        "\n",
        "a= np.array([1,2,3,4])\n",
        "print(a)"
      ],
      "execution_count": null,
      "outputs": [
        {
          "output_type": "stream",
          "text": [
            "[1 2 3 4]\n"
          ],
          "name": "stdout"
        }
      ]
    },
    {
      "cell_type": "code",
      "metadata": {
        "colab": {
          "base_uri": "https://localhost:8080/"
        },
        "id": "jsSP8zG1_QqW",
        "outputId": "fd6c6a29-a700-4db9-b24a-a3c14494aad0"
      },
      "source": [
        "import time\n",
        "\n",
        "a= np.random.rand(1000000)\n",
        "b= np.random.rand(1000000)\n",
        "\n",
        "m = np.array([a,b])\n",
        "print(m)\n",
        "\n",
        "tic = time.time()\n",
        "c= np.dot(a,b)\n",
        "toc = time.time()\n",
        "\n",
        "print(c)\n",
        "print(\"Vectorized version: \" + str(1000*(toc-tic)) + \"ms\")\n",
        "\n",
        "c=0\n",
        "tic = time.time()\n",
        "for i in range(1000000):\n",
        "  c+=a[i]*b[i]\n",
        "toc = time.time()\n",
        "print(c)\n",
        "print(\"for loop \" + str(1000*(toc-tic)) + \"ms\")"
      ],
      "execution_count": null,
      "outputs": [
        {
          "output_type": "stream",
          "text": [
            "[[0.66397837 0.939299   0.7317437  ... 0.41829233 0.53160304 0.61755432]\n",
            " [0.23757719 0.02435407 0.45474896 ... 0.39899786 0.35749941 0.83764846]]\n",
            "250046.78408481367\n",
            "Vectorized version: 2.659320831298828ms\n",
            "250046.78408481457\n",
            "for loop 696.1674690246582ms\n"
          ],
          "name": "stdout"
        }
      ]
    },
    {
      "cell_type": "code",
      "metadata": {
        "id": "NyVt_yx7B3Fg"
      },
      "source": [
        ""
      ],
      "execution_count": null,
      "outputs": []
    }
  ]
}